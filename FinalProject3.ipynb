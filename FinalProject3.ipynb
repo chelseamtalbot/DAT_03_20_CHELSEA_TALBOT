{
 "cells": [
  {
   "cell_type": "code",
   "execution_count": 123,
   "metadata": {
    "collapsed": true
   },
   "outputs": [],
   "source": [
    "import pandas as pd\n",
    "import numpy as np\n",
    "import seaborn as sns\n",
    "import matplotlib.pyplot as plt\n",
    "import statsmodels.formula.api as smf\n",
    "%matplotlib inline"
   ]
  },
  {
   "cell_type": "code",
   "execution_count": 124,
   "metadata": {
    "collapsed": false
   },
   "outputs": [
    {
     "data": {
      "text/html": [
       "<div>\n",
       "<table border=\"1\" class=\"dataframe\">\n",
       "  <thead>\n",
       "    <tr style=\"text-align: right;\">\n",
       "      <th></th>\n",
       "      <th>IATA_CODE</th>\n",
       "      <th>AIRLINE</th>\n",
       "    </tr>\n",
       "  </thead>\n",
       "  <tbody>\n",
       "    <tr>\n",
       "      <th>0</th>\n",
       "      <td>UA</td>\n",
       "      <td>United Air Lines Inc.</td>\n",
       "    </tr>\n",
       "    <tr>\n",
       "      <th>1</th>\n",
       "      <td>AA</td>\n",
       "      <td>American Airlines Inc.</td>\n",
       "    </tr>\n",
       "    <tr>\n",
       "      <th>2</th>\n",
       "      <td>US</td>\n",
       "      <td>US Airways Inc.</td>\n",
       "    </tr>\n",
       "    <tr>\n",
       "      <th>3</th>\n",
       "      <td>F9</td>\n",
       "      <td>Frontier Airlines Inc.</td>\n",
       "    </tr>\n",
       "    <tr>\n",
       "      <th>4</th>\n",
       "      <td>B6</td>\n",
       "      <td>JetBlue Airways</td>\n",
       "    </tr>\n",
       "  </tbody>\n",
       "</table>\n",
       "</div>"
      ],
      "text/plain": [
       "  IATA_CODE                 AIRLINE\n",
       "0        UA   United Air Lines Inc.\n",
       "1        AA  American Airlines Inc.\n",
       "2        US         US Airways Inc.\n",
       "3        F9  Frontier Airlines Inc.\n",
       "4        B6         JetBlue Airways"
      ]
     },
     "execution_count": 124,
     "metadata": {},
     "output_type": "execute_result"
    }
   ],
   "source": [
    "airlines = pd.read_csv(\"./airlines.csv\")\n",
    "airlines.head()"
   ]
  },
  {
   "cell_type": "code",
   "execution_count": 125,
   "metadata": {
    "collapsed": false
   },
   "outputs": [
    {
     "data": {
      "text/html": [
       "<div>\n",
       "<table border=\"1\" class=\"dataframe\">\n",
       "  <thead>\n",
       "    <tr style=\"text-align: right;\">\n",
       "      <th></th>\n",
       "      <th>IATA_CODE</th>\n",
       "      <th>AIRLINE</th>\n",
       "    </tr>\n",
       "  </thead>\n",
       "  <tbody>\n",
       "    <tr>\n",
       "      <th>count</th>\n",
       "      <td>14</td>\n",
       "      <td>14</td>\n",
       "    </tr>\n",
       "    <tr>\n",
       "      <th>unique</th>\n",
       "      <td>14</td>\n",
       "      <td>14</td>\n",
       "    </tr>\n",
       "    <tr>\n",
       "      <th>top</th>\n",
       "      <td>AS</td>\n",
       "      <td>JetBlue Airways</td>\n",
       "    </tr>\n",
       "    <tr>\n",
       "      <th>freq</th>\n",
       "      <td>1</td>\n",
       "      <td>1</td>\n",
       "    </tr>\n",
       "  </tbody>\n",
       "</table>\n",
       "</div>"
      ],
      "text/plain": [
       "       IATA_CODE          AIRLINE\n",
       "count         14               14\n",
       "unique        14               14\n",
       "top           AS  JetBlue Airways\n",
       "freq           1                1"
      ]
     },
     "execution_count": 125,
     "metadata": {},
     "output_type": "execute_result"
    }
   ],
   "source": [
    "airlines.describe()"
   ]
  },
  {
   "cell_type": "code",
   "execution_count": 126,
   "metadata": {
    "collapsed": false
   },
   "outputs": [
    {
     "data": {
      "text/html": [
       "<div>\n",
       "<table border=\"1\" class=\"dataframe\">\n",
       "  <thead>\n",
       "    <tr style=\"text-align: right;\">\n",
       "      <th></th>\n",
       "      <th>IATA_CODE</th>\n",
       "      <th>AIRPORT</th>\n",
       "      <th>CITY</th>\n",
       "      <th>STATE</th>\n",
       "      <th>COUNTRY</th>\n",
       "      <th>LATITUDE</th>\n",
       "      <th>LONGITUDE</th>\n",
       "    </tr>\n",
       "  </thead>\n",
       "  <tbody>\n",
       "    <tr>\n",
       "      <th>0</th>\n",
       "      <td>ABE</td>\n",
       "      <td>Lehigh Valley International Airport</td>\n",
       "      <td>Allentown</td>\n",
       "      <td>PA</td>\n",
       "      <td>USA</td>\n",
       "      <td>40.65236</td>\n",
       "      <td>-75.44040</td>\n",
       "    </tr>\n",
       "    <tr>\n",
       "      <th>1</th>\n",
       "      <td>ABI</td>\n",
       "      <td>Abilene Regional Airport</td>\n",
       "      <td>Abilene</td>\n",
       "      <td>TX</td>\n",
       "      <td>USA</td>\n",
       "      <td>32.41132</td>\n",
       "      <td>-99.68190</td>\n",
       "    </tr>\n",
       "    <tr>\n",
       "      <th>2</th>\n",
       "      <td>ABQ</td>\n",
       "      <td>Albuquerque International Sunport</td>\n",
       "      <td>Albuquerque</td>\n",
       "      <td>NM</td>\n",
       "      <td>USA</td>\n",
       "      <td>35.04022</td>\n",
       "      <td>-106.60919</td>\n",
       "    </tr>\n",
       "    <tr>\n",
       "      <th>3</th>\n",
       "      <td>ABR</td>\n",
       "      <td>Aberdeen Regional Airport</td>\n",
       "      <td>Aberdeen</td>\n",
       "      <td>SD</td>\n",
       "      <td>USA</td>\n",
       "      <td>45.44906</td>\n",
       "      <td>-98.42183</td>\n",
       "    </tr>\n",
       "    <tr>\n",
       "      <th>4</th>\n",
       "      <td>ABY</td>\n",
       "      <td>Southwest Georgia Regional Airport</td>\n",
       "      <td>Albany</td>\n",
       "      <td>GA</td>\n",
       "      <td>USA</td>\n",
       "      <td>31.53552</td>\n",
       "      <td>-84.19447</td>\n",
       "    </tr>\n",
       "  </tbody>\n",
       "</table>\n",
       "</div>"
      ],
      "text/plain": [
       "  IATA_CODE                              AIRPORT         CITY STATE COUNTRY  \\\n",
       "0       ABE  Lehigh Valley International Airport    Allentown    PA     USA   \n",
       "1       ABI             Abilene Regional Airport      Abilene    TX     USA   \n",
       "2       ABQ    Albuquerque International Sunport  Albuquerque    NM     USA   \n",
       "3       ABR            Aberdeen Regional Airport     Aberdeen    SD     USA   \n",
       "4       ABY   Southwest Georgia Regional Airport       Albany    GA     USA   \n",
       "\n",
       "   LATITUDE  LONGITUDE  \n",
       "0  40.65236  -75.44040  \n",
       "1  32.41132  -99.68190  \n",
       "2  35.04022 -106.60919  \n",
       "3  45.44906  -98.42183  \n",
       "4  31.53552  -84.19447  "
      ]
     },
     "execution_count": 126,
     "metadata": {},
     "output_type": "execute_result"
    }
   ],
   "source": [
    "airports= pd.read_csv('./airports.csv')\n",
    "airports.head()"
   ]
  },
  {
   "cell_type": "code",
   "execution_count": 127,
   "metadata": {
    "collapsed": false
   },
   "outputs": [
    {
     "data": {
      "text/html": [
       "<div>\n",
       "<table border=\"1\" class=\"dataframe\">\n",
       "  <thead>\n",
       "    <tr style=\"text-align: right;\">\n",
       "      <th></th>\n",
       "      <th>LATITUDE</th>\n",
       "      <th>LONGITUDE</th>\n",
       "    </tr>\n",
       "  </thead>\n",
       "  <tbody>\n",
       "    <tr>\n",
       "      <th>count</th>\n",
       "      <td>319.000000</td>\n",
       "      <td>319.000000</td>\n",
       "    </tr>\n",
       "    <tr>\n",
       "      <th>mean</th>\n",
       "      <td>38.981244</td>\n",
       "      <td>-98.378964</td>\n",
       "    </tr>\n",
       "    <tr>\n",
       "      <th>std</th>\n",
       "      <td>8.616736</td>\n",
       "      <td>21.523492</td>\n",
       "    </tr>\n",
       "    <tr>\n",
       "      <th>min</th>\n",
       "      <td>13.483450</td>\n",
       "      <td>-176.646030</td>\n",
       "    </tr>\n",
       "    <tr>\n",
       "      <th>25%</th>\n",
       "      <td>33.652040</td>\n",
       "      <td>-110.839385</td>\n",
       "    </tr>\n",
       "    <tr>\n",
       "      <th>50%</th>\n",
       "      <td>39.297610</td>\n",
       "      <td>-93.403070</td>\n",
       "    </tr>\n",
       "    <tr>\n",
       "      <th>75%</th>\n",
       "      <td>43.154675</td>\n",
       "      <td>-82.722995</td>\n",
       "    </tr>\n",
       "    <tr>\n",
       "      <th>max</th>\n",
       "      <td>71.285450</td>\n",
       "      <td>-64.798560</td>\n",
       "    </tr>\n",
       "  </tbody>\n",
       "</table>\n",
       "</div>"
      ],
      "text/plain": [
       "         LATITUDE   LONGITUDE\n",
       "count  319.000000  319.000000\n",
       "mean    38.981244  -98.378964\n",
       "std      8.616736   21.523492\n",
       "min     13.483450 -176.646030\n",
       "25%     33.652040 -110.839385\n",
       "50%     39.297610  -93.403070\n",
       "75%     43.154675  -82.722995\n",
       "max     71.285450  -64.798560"
      ]
     },
     "execution_count": 127,
     "metadata": {},
     "output_type": "execute_result"
    }
   ],
   "source": [
    "airports.describe()"
   ]
  },
  {
   "cell_type": "code",
   "execution_count": 128,
   "metadata": {
    "collapsed": false
   },
   "outputs": [
    {
     "data": {
      "text/html": [
       "<div>\n",
       "<table border=\"1\" class=\"dataframe\">\n",
       "  <thead>\n",
       "    <tr style=\"text-align: right;\">\n",
       "      <th></th>\n",
       "      <th>YEAR</th>\n",
       "      <th>MONTH</th>\n",
       "      <th>DAY</th>\n",
       "      <th>DAY_OF_WEEK</th>\n",
       "      <th>AIRLINE</th>\n",
       "      <th>FLIGHT_NUMBER</th>\n",
       "      <th>TAIL_NUMBER</th>\n",
       "      <th>ORIGIN_AIRPORT</th>\n",
       "      <th>DESTINATION_AIRPORT</th>\n",
       "      <th>SCHEDULED_DEPARTURE</th>\n",
       "      <th>...</th>\n",
       "      <th>ARRIVAL_TIME</th>\n",
       "      <th>ARRIVAL_DELAY</th>\n",
       "      <th>DIVERTED</th>\n",
       "      <th>CANCELLED</th>\n",
       "      <th>CANCELLATION_REASON</th>\n",
       "      <th>AIR_SYSTEM_DELAY</th>\n",
       "      <th>SECURITY_DELAY</th>\n",
       "      <th>AIRLINE_DELAY</th>\n",
       "      <th>LATE_AIRCRAFT_DELAY</th>\n",
       "      <th>WEATHER_DELAY</th>\n",
       "    </tr>\n",
       "  </thead>\n",
       "  <tbody>\n",
       "    <tr>\n",
       "      <th>0</th>\n",
       "      <td>2015</td>\n",
       "      <td>1</td>\n",
       "      <td>1</td>\n",
       "      <td>4</td>\n",
       "      <td>AS</td>\n",
       "      <td>98</td>\n",
       "      <td>N407AS</td>\n",
       "      <td>ANC</td>\n",
       "      <td>SEA</td>\n",
       "      <td>5</td>\n",
       "      <td>...</td>\n",
       "      <td>408.0</td>\n",
       "      <td>-22.0</td>\n",
       "      <td>0</td>\n",
       "      <td>0</td>\n",
       "      <td>NaN</td>\n",
       "      <td>NaN</td>\n",
       "      <td>NaN</td>\n",
       "      <td>NaN</td>\n",
       "      <td>NaN</td>\n",
       "      <td>NaN</td>\n",
       "    </tr>\n",
       "    <tr>\n",
       "      <th>1</th>\n",
       "      <td>2015</td>\n",
       "      <td>1</td>\n",
       "      <td>1</td>\n",
       "      <td>4</td>\n",
       "      <td>AA</td>\n",
       "      <td>2336</td>\n",
       "      <td>N3KUAA</td>\n",
       "      <td>LAX</td>\n",
       "      <td>PBI</td>\n",
       "      <td>10</td>\n",
       "      <td>...</td>\n",
       "      <td>741.0</td>\n",
       "      <td>-9.0</td>\n",
       "      <td>0</td>\n",
       "      <td>0</td>\n",
       "      <td>NaN</td>\n",
       "      <td>NaN</td>\n",
       "      <td>NaN</td>\n",
       "      <td>NaN</td>\n",
       "      <td>NaN</td>\n",
       "      <td>NaN</td>\n",
       "    </tr>\n",
       "    <tr>\n",
       "      <th>2</th>\n",
       "      <td>2015</td>\n",
       "      <td>1</td>\n",
       "      <td>1</td>\n",
       "      <td>4</td>\n",
       "      <td>US</td>\n",
       "      <td>840</td>\n",
       "      <td>N171US</td>\n",
       "      <td>SFO</td>\n",
       "      <td>CLT</td>\n",
       "      <td>20</td>\n",
       "      <td>...</td>\n",
       "      <td>811.0</td>\n",
       "      <td>5.0</td>\n",
       "      <td>0</td>\n",
       "      <td>0</td>\n",
       "      <td>NaN</td>\n",
       "      <td>NaN</td>\n",
       "      <td>NaN</td>\n",
       "      <td>NaN</td>\n",
       "      <td>NaN</td>\n",
       "      <td>NaN</td>\n",
       "    </tr>\n",
       "    <tr>\n",
       "      <th>3</th>\n",
       "      <td>2015</td>\n",
       "      <td>1</td>\n",
       "      <td>1</td>\n",
       "      <td>4</td>\n",
       "      <td>AA</td>\n",
       "      <td>258</td>\n",
       "      <td>N3HYAA</td>\n",
       "      <td>LAX</td>\n",
       "      <td>MIA</td>\n",
       "      <td>20</td>\n",
       "      <td>...</td>\n",
       "      <td>756.0</td>\n",
       "      <td>-9.0</td>\n",
       "      <td>0</td>\n",
       "      <td>0</td>\n",
       "      <td>NaN</td>\n",
       "      <td>NaN</td>\n",
       "      <td>NaN</td>\n",
       "      <td>NaN</td>\n",
       "      <td>NaN</td>\n",
       "      <td>NaN</td>\n",
       "    </tr>\n",
       "    <tr>\n",
       "      <th>4</th>\n",
       "      <td>2015</td>\n",
       "      <td>1</td>\n",
       "      <td>1</td>\n",
       "      <td>4</td>\n",
       "      <td>AS</td>\n",
       "      <td>135</td>\n",
       "      <td>N527AS</td>\n",
       "      <td>SEA</td>\n",
       "      <td>ANC</td>\n",
       "      <td>25</td>\n",
       "      <td>...</td>\n",
       "      <td>259.0</td>\n",
       "      <td>-21.0</td>\n",
       "      <td>0</td>\n",
       "      <td>0</td>\n",
       "      <td>NaN</td>\n",
       "      <td>NaN</td>\n",
       "      <td>NaN</td>\n",
       "      <td>NaN</td>\n",
       "      <td>NaN</td>\n",
       "      <td>NaN</td>\n",
       "    </tr>\n",
       "  </tbody>\n",
       "</table>\n",
       "<p>5 rows × 31 columns</p>\n",
       "</div>"
      ],
      "text/plain": [
       "   YEAR  MONTH  DAY  DAY_OF_WEEK AIRLINE  FLIGHT_NUMBER TAIL_NUMBER  \\\n",
       "0  2015      1    1            4      AS             98      N407AS   \n",
       "1  2015      1    1            4      AA           2336      N3KUAA   \n",
       "2  2015      1    1            4      US            840      N171US   \n",
       "3  2015      1    1            4      AA            258      N3HYAA   \n",
       "4  2015      1    1            4      AS            135      N527AS   \n",
       "\n",
       "  ORIGIN_AIRPORT DESTINATION_AIRPORT  SCHEDULED_DEPARTURE      ...        \\\n",
       "0            ANC                 SEA                    5      ...         \n",
       "1            LAX                 PBI                   10      ...         \n",
       "2            SFO                 CLT                   20      ...         \n",
       "3            LAX                 MIA                   20      ...         \n",
       "4            SEA                 ANC                   25      ...         \n",
       "\n",
       "   ARRIVAL_TIME  ARRIVAL_DELAY  DIVERTED  CANCELLED  CANCELLATION_REASON  \\\n",
       "0         408.0          -22.0         0          0                  NaN   \n",
       "1         741.0           -9.0         0          0                  NaN   \n",
       "2         811.0            5.0         0          0                  NaN   \n",
       "3         756.0           -9.0         0          0                  NaN   \n",
       "4         259.0          -21.0         0          0                  NaN   \n",
       "\n",
       "   AIR_SYSTEM_DELAY  SECURITY_DELAY  AIRLINE_DELAY  LATE_AIRCRAFT_DELAY  \\\n",
       "0               NaN             NaN            NaN                  NaN   \n",
       "1               NaN             NaN            NaN                  NaN   \n",
       "2               NaN             NaN            NaN                  NaN   \n",
       "3               NaN             NaN            NaN                  NaN   \n",
       "4               NaN             NaN            NaN                  NaN   \n",
       "\n",
       "   WEATHER_DELAY  \n",
       "0            NaN  \n",
       "1            NaN  \n",
       "2            NaN  \n",
       "3            NaN  \n",
       "4            NaN  \n",
       "\n",
       "[5 rows x 31 columns]"
      ]
     },
     "execution_count": 128,
     "metadata": {},
     "output_type": "execute_result"
    }
   ],
   "source": [
    "flights = pd.read_csv('./flights.csv.zip', low_memory=False)\n",
    "flights.head()"
   ]
  },
  {
   "cell_type": "code",
   "execution_count": 129,
   "metadata": {
    "collapsed": false
   },
   "outputs": [
    {
     "data": {
      "text/plain": [
       "['1', '2']"
      ]
     },
     "execution_count": 129,
     "metadata": {},
     "output_type": "execute_result"
    }
   ],
   "source": [
    "[char for char in \"ANC1772\" if char in ('1','2') ]"
   ]
  },
  {
   "cell_type": "code",
   "execution_count": 130,
   "metadata": {
    "collapsed": false
   },
   "outputs": [
    {
     "data": {
      "text/plain": [
       "{'2'}"
      ]
     },
     "execution_count": 130,
     "metadata": {},
     "output_type": "execute_result"
    }
   ],
   "source": [
    "set(\"ANC1772\").intersection({'','2'})\n"
   ]
  },
  {
   "cell_type": "code",
   "execution_count": 131,
   "metadata": {
    "collapsed": false
   },
   "outputs": [
    {
     "data": {
      "text/plain": [
       "{'9'}"
      ]
     },
     "execution_count": 131,
     "metadata": {},
     "output_type": "execute_result"
    }
   ],
   "source": [
    "set(\"abc9\") & set([str(x) for x in range(0,10)]) "
   ]
  },
  {
   "cell_type": "code",
   "execution_count": 132,
   "metadata": {
    "collapsed": false
   },
   "outputs": [
    {
     "data": {
      "text/plain": [
       "False"
      ]
     },
     "execution_count": 132,
     "metadata": {},
     "output_type": "execute_result"
    }
   ],
   "source": [
    "(set(\"ANC77\") & set('12') )== set()\n",
    "x=\"ANC7\"\n",
    "(set(x)& set([str(x) for x in range(0,10)]))== set()"
   ]
  },
  {
   "cell_type": "code",
   "execution_count": 133,
   "metadata": {
    "collapsed": false
   },
   "outputs": [
    {
     "data": {
      "text/plain": [
       "array(['ANC', 'LAX', 'SFO', 'SEA', 'LAS', 'DEN', 'SLC', 'PDX', 'FAI',\n",
       "       'MSP', 'PHX', 'SJU', 'PBG', 'IAG', 'PSE', 'BQN', 'ORD', 'GEG',\n",
       "       'HNL', 'ONT', 'MCO', 'BOS', 'HIB', 'ABR', 'MAF', 'DFW', 'MKE',\n",
       "       'IAH', 'BNA', 'BRO', 'VPS', 'BOI', 'BJI', 'SGF', 'PHL', 'SBN',\n",
       "       'RDD', 'EUG', 'IAD', 'BUF', 'PWM', 'JFK', 'CRP', 'PIA', 'FAT',\n",
       "       'SMF', 'AUS', 'MCI', 'ATL', 'JAX', 'MFR', 'IDA', 'MSN', 'DCA',\n",
       "       'SAT', 'CHS', 'SBA', 'SMX', 'IND', 'CLE', 'GSP', 'BDL', 'ABI',\n",
       "       'RIC', 'BFL', 'OMA', 'RDM', 'FLL', 'CID', 'TPA', 'SYR', 'ROC',\n",
       "       'TYR', 'LAN', 'XNA', 'GSO', 'EWR', 'PBI', 'RSW', 'OAK', 'PVD',\n",
       "       'RNO', 'PIT', 'ABQ', 'MIA', 'BWI', 'LGA', 'TUL', 'LIT', 'MSY',\n",
       "       'OKC', 'ATW', 'PNS', 'MEM', 'TYS', 'MHT', 'SAV', 'CLT', 'GRB',\n",
       "       'ABE', 'JAN', 'OAJ', 'FAR', 'ERI', 'LEX', 'CWA', 'MSO', 'TTN',\n",
       "       'AMA', 'CLL', 'HOU', 'JLN', 'MLI', 'RDU', 'CVG', 'MHK', 'MOB',\n",
       "       'TLH', 'BHM', 'CAE', 'TXK', 'ACY', 'DTW', 'RAP', 'TUS', 'EAU',\n",
       "       'DLH', 'FSD', 'INL', 'CMX', 'SPI', 'CLD', 'COD', 'CMH', 'LRD',\n",
       "       'PSC', 'CPR', 'ACV', 'DAL', 'PAH', 'MRY', 'ESC', 'ISN', 'PSP',\n",
       "       'MFE', 'STL', 'BTV', 'FSM', 'AEX', 'SPS', 'ACT', 'SJT', 'MTJ',\n",
       "       'GCC', 'OGG', 'SJC', 'GUC', 'ORF', 'MOT', 'MLU', 'KOA', 'SAN',\n",
       "       'LAW', 'PIB', 'MGM', 'SBP', 'COS', 'LAR', 'DRO', 'BIS', 'ITO',\n",
       "       'BTR', 'GRI', 'HLN', 'BZN', 'MDW', 'MDT', 'SCE', 'LIH', 'TWF',\n",
       "       'BPT', 'GPT', 'STC', 'HPN', 'MLB', 'PLN', 'CIU', 'CAK', 'DSM',\n",
       "       'BLI', 'SHV', 'ROW', 'FWA', 'SNA', 'ALB', 'HOB', 'LNK', 'CMI',\n",
       "       'COU', 'GTF', 'EKO', 'LGB', 'AVL', 'HSV', 'SAF', 'GRR', 'SUX',\n",
       "       'LFT', 'HYS', 'ELP', 'DVL', 'ISP', 'BUR', 'DAB', 'DAY', 'GRK',\n",
       "       'GJT', 'BMI', 'LBE', 'ASE', 'RKS', 'GUM', 'TVC', 'ALO', 'IMT',\n",
       "       'LCH', 'JNU', 'JAC', 'MEI', 'DBQ', 'GCK', 'GNV', 'BRD', 'DIK',\n",
       "       'SDF', 'LBB', 'AVP', 'BTM', 'ELM', 'PIH', 'ICT', 'SUN', 'LWS',\n",
       "       'VEL', 'STT', 'YUM', 'FLG', 'FCA', 'HDN', 'JMS', 'ROA', 'CHA',\n",
       "       'EYW', 'MYR', 'CRW', 'MQT', 'CHO', 'ECP', 'EVV', 'EGE', 'MBS',\n",
       "       'GFK', 'TOL', 'BIL', 'OTZ', 'KTN', 'STX', 'ILM', 'PUB', 'RHI',\n",
       "       'CDC', 'HRL', 'SCC', 'FNT', 'LSE', 'MMH', 'APN', 'AGS', 'CEC',\n",
       "       'DHN', 'WRG', 'PHF', 'CNY', 'BRW', 'GGG', 'AZO', 'SRQ', 'ORH',\n",
       "       'TRI', 'VLD', 'SIT', 'BQK', 'PSG', 'FAY', 'MKG', 'CSG', 'EWN',\n",
       "       'OME', 'SGU', 'RST', 'GTR', 'BET', 'ABY', 'SWF', 'ILG', 'ADK',\n",
       "       'UST', 'YAK', 'CDV', 'OTH', 'ADQ', 'PPG', 'BGM', 'BGR', 'ITH',\n",
       "       'ACK', 'MVY', 'WYS', 'DLG', 'AKN', 'GST', 'HYA'], dtype=object)"
      ]
     },
     "execution_count": 133,
     "metadata": {},
     "output_type": "execute_result"
    }
   ],
   "source": [
    "flights.ORIGIN_AIRPORT[flights.ORIGIN_AIRPORT.apply(lambda x: (set(x)& set([str(x) for x in range(0,10)]))== set())].unique()"
   ]
  },
  {
   "cell_type": "code",
   "execution_count": 139,
   "metadata": {
    "collapsed": false
   },
   "outputs": [
    {
     "data": {
      "text/html": [
       "<div>\n",
       "<table border=\"1\" class=\"dataframe\">\n",
       "  <thead>\n",
       "    <tr style=\"text-align: right;\">\n",
       "      <th></th>\n",
       "      <th>YEAR</th>\n",
       "      <th>MONTH</th>\n",
       "      <th>DAY</th>\n",
       "      <th>DAY_OF_WEEK</th>\n",
       "      <th>FLIGHT_NUMBER</th>\n",
       "      <th>SCHEDULED_DEPARTURE</th>\n",
       "      <th>DEPARTURE_TIME</th>\n",
       "      <th>DEPARTURE_DELAY</th>\n",
       "      <th>TAXI_OUT</th>\n",
       "      <th>WHEELS_OFF</th>\n",
       "      <th>...</th>\n",
       "      <th>SCHEDULED_ARRIVAL</th>\n",
       "      <th>ARRIVAL_TIME</th>\n",
       "      <th>ARRIVAL_DELAY</th>\n",
       "      <th>DIVERTED</th>\n",
       "      <th>CANCELLED</th>\n",
       "      <th>AIR_SYSTEM_DELAY</th>\n",
       "      <th>SECURITY_DELAY</th>\n",
       "      <th>AIRLINE_DELAY</th>\n",
       "      <th>LATE_AIRCRAFT_DELAY</th>\n",
       "      <th>WEATHER_DELAY</th>\n",
       "    </tr>\n",
       "  </thead>\n",
       "  <tbody>\n",
       "    <tr>\n",
       "      <th>count</th>\n",
       "      <td>5819079.0</td>\n",
       "      <td>5.819079e+06</td>\n",
       "      <td>5.819079e+06</td>\n",
       "      <td>5.819079e+06</td>\n",
       "      <td>5.819079e+06</td>\n",
       "      <td>5.819079e+06</td>\n",
       "      <td>5.732926e+06</td>\n",
       "      <td>5.732926e+06</td>\n",
       "      <td>5.730032e+06</td>\n",
       "      <td>5.730032e+06</td>\n",
       "      <td>...</td>\n",
       "      <td>5.819079e+06</td>\n",
       "      <td>5.726566e+06</td>\n",
       "      <td>5.714008e+06</td>\n",
       "      <td>5.819079e+06</td>\n",
       "      <td>5.819079e+06</td>\n",
       "      <td>1.063439e+06</td>\n",
       "      <td>1.063439e+06</td>\n",
       "      <td>1.063439e+06</td>\n",
       "      <td>1.063439e+06</td>\n",
       "      <td>1.063439e+06</td>\n",
       "    </tr>\n",
       "    <tr>\n",
       "      <th>mean</th>\n",
       "      <td>2015.0</td>\n",
       "      <td>6.524085e+00</td>\n",
       "      <td>1.570459e+01</td>\n",
       "      <td>3.926941e+00</td>\n",
       "      <td>2.173093e+03</td>\n",
       "      <td>1.329602e+03</td>\n",
       "      <td>1.335204e+03</td>\n",
       "      <td>9.370158e+00</td>\n",
       "      <td>1.607166e+01</td>\n",
       "      <td>1.357171e+03</td>\n",
       "      <td>...</td>\n",
       "      <td>1.493808e+03</td>\n",
       "      <td>1.476491e+03</td>\n",
       "      <td>4.407057e+00</td>\n",
       "      <td>2.609863e-03</td>\n",
       "      <td>1.544643e-02</td>\n",
       "      <td>1.348057e+01</td>\n",
       "      <td>7.615387e-02</td>\n",
       "      <td>1.896955e+01</td>\n",
       "      <td>2.347284e+01</td>\n",
       "      <td>2.915290e+00</td>\n",
       "    </tr>\n",
       "    <tr>\n",
       "      <th>std</th>\n",
       "      <td>0.0</td>\n",
       "      <td>3.405137e+00</td>\n",
       "      <td>8.783425e+00</td>\n",
       "      <td>1.988845e+00</td>\n",
       "      <td>1.757064e+03</td>\n",
       "      <td>4.837518e+02</td>\n",
       "      <td>4.964233e+02</td>\n",
       "      <td>3.708094e+01</td>\n",
       "      <td>8.895574e+00</td>\n",
       "      <td>4.980094e+02</td>\n",
       "      <td>...</td>\n",
       "      <td>5.071647e+02</td>\n",
       "      <td>5.263197e+02</td>\n",
       "      <td>3.927130e+01</td>\n",
       "      <td>5.102012e-02</td>\n",
       "      <td>1.233201e-01</td>\n",
       "      <td>2.800368e+01</td>\n",
       "      <td>2.143460e+00</td>\n",
       "      <td>4.816164e+01</td>\n",
       "      <td>4.319702e+01</td>\n",
       "      <td>2.043334e+01</td>\n",
       "    </tr>\n",
       "    <tr>\n",
       "      <th>min</th>\n",
       "      <td>2015.0</td>\n",
       "      <td>1.000000e+00</td>\n",
       "      <td>1.000000e+00</td>\n",
       "      <td>1.000000e+00</td>\n",
       "      <td>1.000000e+00</td>\n",
       "      <td>1.000000e+00</td>\n",
       "      <td>1.000000e+00</td>\n",
       "      <td>-8.200000e+01</td>\n",
       "      <td>1.000000e+00</td>\n",
       "      <td>1.000000e+00</td>\n",
       "      <td>...</td>\n",
       "      <td>1.000000e+00</td>\n",
       "      <td>1.000000e+00</td>\n",
       "      <td>-8.700000e+01</td>\n",
       "      <td>0.000000e+00</td>\n",
       "      <td>0.000000e+00</td>\n",
       "      <td>0.000000e+00</td>\n",
       "      <td>0.000000e+00</td>\n",
       "      <td>0.000000e+00</td>\n",
       "      <td>0.000000e+00</td>\n",
       "      <td>0.000000e+00</td>\n",
       "    </tr>\n",
       "    <tr>\n",
       "      <th>25%</th>\n",
       "      <td>2015.0</td>\n",
       "      <td>4.000000e+00</td>\n",
       "      <td>8.000000e+00</td>\n",
       "      <td>2.000000e+00</td>\n",
       "      <td>7.300000e+02</td>\n",
       "      <td>9.170000e+02</td>\n",
       "      <td>9.210000e+02</td>\n",
       "      <td>-5.000000e+00</td>\n",
       "      <td>1.100000e+01</td>\n",
       "      <td>9.350000e+02</td>\n",
       "      <td>...</td>\n",
       "      <td>1.110000e+03</td>\n",
       "      <td>1.059000e+03</td>\n",
       "      <td>-1.300000e+01</td>\n",
       "      <td>0.000000e+00</td>\n",
       "      <td>0.000000e+00</td>\n",
       "      <td>0.000000e+00</td>\n",
       "      <td>0.000000e+00</td>\n",
       "      <td>0.000000e+00</td>\n",
       "      <td>0.000000e+00</td>\n",
       "      <td>0.000000e+00</td>\n",
       "    </tr>\n",
       "    <tr>\n",
       "      <th>50%</th>\n",
       "      <td>2015.0</td>\n",
       "      <td>7.000000e+00</td>\n",
       "      <td>1.600000e+01</td>\n",
       "      <td>4.000000e+00</td>\n",
       "      <td>1.690000e+03</td>\n",
       "      <td>1.325000e+03</td>\n",
       "      <td>1.330000e+03</td>\n",
       "      <td>-2.000000e+00</td>\n",
       "      <td>1.400000e+01</td>\n",
       "      <td>1.343000e+03</td>\n",
       "      <td>...</td>\n",
       "      <td>1.520000e+03</td>\n",
       "      <td>1.512000e+03</td>\n",
       "      <td>-5.000000e+00</td>\n",
       "      <td>0.000000e+00</td>\n",
       "      <td>0.000000e+00</td>\n",
       "      <td>2.000000e+00</td>\n",
       "      <td>0.000000e+00</td>\n",
       "      <td>2.000000e+00</td>\n",
       "      <td>3.000000e+00</td>\n",
       "      <td>0.000000e+00</td>\n",
       "    </tr>\n",
       "    <tr>\n",
       "      <th>75%</th>\n",
       "      <td>2015.0</td>\n",
       "      <td>9.000000e+00</td>\n",
       "      <td>2.300000e+01</td>\n",
       "      <td>6.000000e+00</td>\n",
       "      <td>3.230000e+03</td>\n",
       "      <td>1.730000e+03</td>\n",
       "      <td>1.740000e+03</td>\n",
       "      <td>7.000000e+00</td>\n",
       "      <td>1.900000e+01</td>\n",
       "      <td>1.754000e+03</td>\n",
       "      <td>...</td>\n",
       "      <td>1.918000e+03</td>\n",
       "      <td>1.917000e+03</td>\n",
       "      <td>8.000000e+00</td>\n",
       "      <td>0.000000e+00</td>\n",
       "      <td>0.000000e+00</td>\n",
       "      <td>1.800000e+01</td>\n",
       "      <td>0.000000e+00</td>\n",
       "      <td>1.900000e+01</td>\n",
       "      <td>2.900000e+01</td>\n",
       "      <td>0.000000e+00</td>\n",
       "    </tr>\n",
       "    <tr>\n",
       "      <th>max</th>\n",
       "      <td>2015.0</td>\n",
       "      <td>1.200000e+01</td>\n",
       "      <td>3.100000e+01</td>\n",
       "      <td>7.000000e+00</td>\n",
       "      <td>9.855000e+03</td>\n",
       "      <td>2.359000e+03</td>\n",
       "      <td>2.400000e+03</td>\n",
       "      <td>1.988000e+03</td>\n",
       "      <td>2.250000e+02</td>\n",
       "      <td>2.400000e+03</td>\n",
       "      <td>...</td>\n",
       "      <td>2.400000e+03</td>\n",
       "      <td>2.400000e+03</td>\n",
       "      <td>1.971000e+03</td>\n",
       "      <td>1.000000e+00</td>\n",
       "      <td>1.000000e+00</td>\n",
       "      <td>1.134000e+03</td>\n",
       "      <td>5.730000e+02</td>\n",
       "      <td>1.971000e+03</td>\n",
       "      <td>1.331000e+03</td>\n",
       "      <td>1.211000e+03</td>\n",
       "    </tr>\n",
       "  </tbody>\n",
       "</table>\n",
       "<p>8 rows × 26 columns</p>\n",
       "</div>"
      ],
      "text/plain": [
       "            YEAR         MONTH           DAY   DAY_OF_WEEK  FLIGHT_NUMBER  \\\n",
       "count  5819079.0  5.819079e+06  5.819079e+06  5.819079e+06   5.819079e+06   \n",
       "mean      2015.0  6.524085e+00  1.570459e+01  3.926941e+00   2.173093e+03   \n",
       "std          0.0  3.405137e+00  8.783425e+00  1.988845e+00   1.757064e+03   \n",
       "min       2015.0  1.000000e+00  1.000000e+00  1.000000e+00   1.000000e+00   \n",
       "25%       2015.0  4.000000e+00  8.000000e+00  2.000000e+00   7.300000e+02   \n",
       "50%       2015.0  7.000000e+00  1.600000e+01  4.000000e+00   1.690000e+03   \n",
       "75%       2015.0  9.000000e+00  2.300000e+01  6.000000e+00   3.230000e+03   \n",
       "max       2015.0  1.200000e+01  3.100000e+01  7.000000e+00   9.855000e+03   \n",
       "\n",
       "       SCHEDULED_DEPARTURE  DEPARTURE_TIME  DEPARTURE_DELAY      TAXI_OUT  \\\n",
       "count         5.819079e+06    5.732926e+06     5.732926e+06  5.730032e+06   \n",
       "mean          1.329602e+03    1.335204e+03     9.370158e+00  1.607166e+01   \n",
       "std           4.837518e+02    4.964233e+02     3.708094e+01  8.895574e+00   \n",
       "min           1.000000e+00    1.000000e+00    -8.200000e+01  1.000000e+00   \n",
       "25%           9.170000e+02    9.210000e+02    -5.000000e+00  1.100000e+01   \n",
       "50%           1.325000e+03    1.330000e+03    -2.000000e+00  1.400000e+01   \n",
       "75%           1.730000e+03    1.740000e+03     7.000000e+00  1.900000e+01   \n",
       "max           2.359000e+03    2.400000e+03     1.988000e+03  2.250000e+02   \n",
       "\n",
       "         WHEELS_OFF      ...        SCHEDULED_ARRIVAL  ARRIVAL_TIME  \\\n",
       "count  5.730032e+06      ...             5.819079e+06  5.726566e+06   \n",
       "mean   1.357171e+03      ...             1.493808e+03  1.476491e+03   \n",
       "std    4.980094e+02      ...             5.071647e+02  5.263197e+02   \n",
       "min    1.000000e+00      ...             1.000000e+00  1.000000e+00   \n",
       "25%    9.350000e+02      ...             1.110000e+03  1.059000e+03   \n",
       "50%    1.343000e+03      ...             1.520000e+03  1.512000e+03   \n",
       "75%    1.754000e+03      ...             1.918000e+03  1.917000e+03   \n",
       "max    2.400000e+03      ...             2.400000e+03  2.400000e+03   \n",
       "\n",
       "       ARRIVAL_DELAY      DIVERTED     CANCELLED  AIR_SYSTEM_DELAY  \\\n",
       "count   5.714008e+06  5.819079e+06  5.819079e+06      1.063439e+06   \n",
       "mean    4.407057e+00  2.609863e-03  1.544643e-02      1.348057e+01   \n",
       "std     3.927130e+01  5.102012e-02  1.233201e-01      2.800368e+01   \n",
       "min    -8.700000e+01  0.000000e+00  0.000000e+00      0.000000e+00   \n",
       "25%    -1.300000e+01  0.000000e+00  0.000000e+00      0.000000e+00   \n",
       "50%    -5.000000e+00  0.000000e+00  0.000000e+00      2.000000e+00   \n",
       "75%     8.000000e+00  0.000000e+00  0.000000e+00      1.800000e+01   \n",
       "max     1.971000e+03  1.000000e+00  1.000000e+00      1.134000e+03   \n",
       "\n",
       "       SECURITY_DELAY  AIRLINE_DELAY  LATE_AIRCRAFT_DELAY  WEATHER_DELAY  \n",
       "count    1.063439e+06   1.063439e+06         1.063439e+06   1.063439e+06  \n",
       "mean     7.615387e-02   1.896955e+01         2.347284e+01   2.915290e+00  \n",
       "std      2.143460e+00   4.816164e+01         4.319702e+01   2.043334e+01  \n",
       "min      0.000000e+00   0.000000e+00         0.000000e+00   0.000000e+00  \n",
       "25%      0.000000e+00   0.000000e+00         0.000000e+00   0.000000e+00  \n",
       "50%      0.000000e+00   2.000000e+00         3.000000e+00   0.000000e+00  \n",
       "75%      0.000000e+00   1.900000e+01         2.900000e+01   0.000000e+00  \n",
       "max      5.730000e+02   1.971000e+03         1.331000e+03   1.211000e+03  \n",
       "\n",
       "[8 rows x 26 columns]"
      ]
     },
     "execution_count": 139,
     "metadata": {},
     "output_type": "execute_result"
    }
   ],
   "source": [
    "flights.describe()"
   ]
  },
  {
   "cell_type": "code",
   "execution_count": 140,
   "metadata": {
    "collapsed": false
   },
   "outputs": [
    {
     "name": "stdout",
     "output_type": "stream",
     "text": [
      "['AS' 'AA' 'US' 'DL' 'NK' 'UA' 'HA' 'B6' 'OO' 'EV' 'MQ' 'F9' 'WN' 'VX']\n"
     ]
    }
   ],
   "source": [
    " print(flights.AIRLINE.unique())"
   ]
  },
  {
   "cell_type": "code",
   "execution_count": 141,
   "metadata": {
    "collapsed": false
   },
   "outputs": [
    {
     "name": "stdout",
     "output_type": "stream",
     "text": [
      "['ANC' 'LAX' 'SFO' 'SEA' 'LAS' 'DEN' 'SLC' 'PDX' 'FAI' 'MSP' 'PHX' 'SJU'\n",
      " 'PBG' 'IAG' 'PSE' 'BQN' 'ORD' 'GEG' 'HNL' 'ONT' 'MCO' 'BOS' 'HIB' 'ABR'\n",
      " 'MAF' 'DFW' 'MKE' 'IAH' 'BNA' 'BRO' 'VPS' 'BOI' 'BJI' 'SGF' 'PHL' 'SBN'\n",
      " 'RDD' 'EUG' 'IAD' 'BUF' 'PWM' 'JFK' 'CRP' 'PIA' 'FAT' 'SMF' 'AUS' 'MCI'\n",
      " 'ATL' 'JAX' 'MFR' 'IDA' 'MSN' 'DCA' 'SAT' 'CHS' 'SBA' 'SMX' 'IND' 'CLE'\n",
      " 'GSP' 'BDL' 'ABI' 'RIC' 'BFL' 'OMA' 'RDM' 'FLL' 'CID' 'TPA' 'SYR' 'ROC'\n",
      " 'TYR' 'LAN' 'XNA' 'GSO' 'EWR' 'PBI' 'RSW' 'OAK' 'PVD' 'RNO' 'PIT' 'ABQ'\n",
      " 'MIA' 'BWI' 'LGA' 'TUL' 'LIT' 'MSY' 'OKC' 'ATW' 'PNS' 'MEM' 'TYS' 'MHT'\n",
      " 'SAV' 'CLT' 'GRB' 'ABE' 'JAN' 'OAJ' 'FAR' 'ERI' 'LEX' 'CWA' 'MSO' 'TTN'\n",
      " 'AMA' 'CLL' 'HOU' 'JLN' 'MLI' 'RDU' 'CVG' 'MHK' 'MOB' 'TLH' 'BHM' 'CAE'\n",
      " 'TXK' 'ACY' 'DTW' 'RAP' 'TUS' 'EAU' 'DLH' 'FSD' 'INL' 'CMX' 'SPI' 'CLD'\n",
      " 'COD' 'CMH' 'LRD' 'PSC' 'CPR' 'ACV' 'DAL' 'PAH' 'MRY' 'ESC' 'ISN' 'PSP'\n",
      " 'MFE' 'STL' 'BTV' 'FSM' 'AEX' 'SPS' 'ACT' 'SJT' 'MTJ' 'GCC' 'OGG' 'SJC'\n",
      " 'GUC' 'ORF' 'MOT' 'MLU' 'KOA' 'SAN' 'LAW' 'PIB' 'MGM' 'SBP' 'COS' 'LAR'\n",
      " 'DRO' 'BIS' 'ITO' 'BTR' 'GRI' 'HLN' 'BZN' 'MDW' 'MDT' 'SCE' 'LIH' 'TWF'\n",
      " 'BPT' 'GPT' 'STC' 'HPN' 'MLB' 'PLN' 'CIU' 'CAK' 'DSM' 'BLI' 'SHV' 'ROW'\n",
      " 'FWA' 'SNA' 'ALB' 'HOB' 'LNK' 'CMI' 'COU' 'GTF' 'EKO' 'LGB' 'AVL' 'HSV'\n",
      " 'SAF' 'GRR' 'SUX' 'LFT' 'HYS' 'ELP' 'DVL' 'ISP' 'BUR' 'DAB' 'DAY' 'GRK'\n",
      " 'GJT' 'BMI' 'LBE' 'ASE' 'RKS' 'GUM' 'TVC' 'ALO' 'IMT' 'LCH' 'JNU' 'JAC'\n",
      " 'MEI' 'DBQ' 'GCK' 'GNV' 'BRD' 'DIK' 'SDF' 'LBB' 'AVP' 'BTM' 'ELM' 'PIH'\n",
      " 'ICT' 'SUN' 'LWS' 'VEL' 'STT' 'YUM' 'FLG' 'FCA' 'HDN' 'JMS' 'ROA' 'CHA'\n",
      " 'EYW' 'MYR' 'CRW' 'MQT' 'CHO' 'ECP' 'EVV' 'EGE' 'MBS' 'GFK' 'TOL' 'BIL'\n",
      " 'OTZ' 'KTN' 'STX' 'ILM' 'PUB' 'RHI' 'CDC' 'HRL' 'SCC' 'FNT' 'LSE' 'MMH'\n",
      " 'APN' 'AGS' 'CEC' 'DHN' 'WRG' 'PHF' 'CNY' 'BRW' 'GGG' 'AZO' 'SRQ' 'ORH'\n",
      " 'TRI' 'VLD' 'SIT' 'BQK' 'PSG' 'FAY' 'MKG' 'CSG' 'EWN' 'OME' 'SGU' 'RST'\n",
      " 'GTR' 'BET' 'ABY' 'SWF' 'ILG' 'ADK' 'UST' 'YAK' 'CDV' 'OTH' 'ADQ' 'PPG'\n",
      " 'BGM' 'BGR' 'ITH' 'ACK' 'MVY' 'WYS' 'DLG' 'AKN' 'GST' 'HYA' '14747'\n",
      " '14771' '12889' '12892' '14869' '10299' '11292' '14107' '11630' '10732'\n",
      " '14254' '10141' '10627' '11982' '12173' '13930' '14683' '12266' '11618'\n",
      " '10721' '13487' '11884' '15919' '13851' '11111' '10693' '12191' '14783'\n",
      " '15016' '14487' '10423' '15370' '11953' '13891' '15376' '11778' '11278'\n",
      " '14100' '13204' '15304' '11637' '14842' '10155' '11775' '11298' '11057'\n",
      " '13931' '10821' '14122' '11049' '10990' '10631' '13158' '14108' '13198'\n",
      " '11447' '12206' '13495' '14057' '15624' '10747' '15411' '12891' '10994'\n",
      " '13256' '10792' '14492' '12451' '13127' '10781' '14960' '12278' '14685'\n",
      " '11995' '13485' '11977' '10257' '13796' '13232' '13296' '14570' '14893'\n",
      " '14524' '12217' '10713' '10208' '10136' '11603' '14689' '11471' '11315'\n",
      " '13264' '12478' '14814' '11308' '11066' '12896' '10397' '14307' '11721'\n",
      " '11140' '10185' '13277' '11203' '13342' '11433' '11697' '12953' '10599'\n",
      " '12156' '14952' '10620' '11042' '15096' '10408' '15249' '11423' '12915'\n",
      " '12264' '12339' '10140' '13871' '14027' '13244' '11267' '11540' '14576'\n",
      " '10868' '13486' '13476' '14489' '12945' '15607' '10529' '11986' '14635'\n",
      " '13303' '10785' '15380' '11996' '10561' '10874' '13367' '10146' '10431'\n",
      " '11973' '10980' '12197' '14098' '12323' '10577' '11150' '10135' '11617'\n",
      " '13795' '13029' '11003' '11146' '11577' '15356' '11259' '10279' '14321'\n",
      " '14843' '11638' '14828' '11481' '12951' '10434' '12448' '14730' '15323'\n",
      " '14252' '11193' '10849' '14193' '14986' '11641' '12992' '13422' '11612'\n",
      " '11823' '11980' '13290' '10158' '10685' '13377' '11109' '11076' '11122'\n",
      " '11865' '14543' '14905' '11587' '14457' '12335' '12343' '12003' '10157'\n",
      " '12884' '14633' '15048' '10268' '15295' '12389' '11525' '14262' '12888'\n",
      " '12391' '11648' '14696' '12758' '13830' '10469' '15412' '10731' '14679'\n",
      " '14831' '11413' '13433' '12982' '11867' '14698' '11537' '15389' '12402'\n",
      " '11337' '13360' '13076' '14006' '10728' '15401' '13230' '12016' '11067'\n",
      " '11274' '11921' '12519' '11013' '10779' '14150' '14794' '12511' '12177'\n",
      " '12523' '14908' '12007' '14588' '13577' '13061' '15041' '14109' '10800'\n",
      " '12954' '12441' '12898' '11695' '16218' '14113' '11624' '11503' '10739'\n",
      " '14574' '14711' '12129' '15070' '14520' '13184' '11252' '12280' '13241'\n",
      " '11898' '15024' '14674' '10551' '12819' '13459' '10581' '13970' '10372'\n",
      " '10918' '14709' '12255' '11905' '10333' '15841' '13344' '13933' '15991'\n",
      " '10754' '14256' '12094' '13873' '11097' '10154' '10926' '13964' '13541'\n",
      " '15027' '10170' '10165' '15497' '12265' '14222' '14025' '13502']\n"
     ]
    }
   ],
   "source": [
    " print(flights.ORIGIN_AIRPORT.unique())"
   ]
  },
  {
   "cell_type": "code",
   "execution_count": 142,
   "metadata": {
    "collapsed": false
   },
   "outputs": [
    {
     "name": "stdout",
     "output_type": "stream",
     "text": [
      "['SEA' 'PBI' 'CLT' 'MIA' 'ANC' 'MSP' 'DFW' 'ATL' 'IAH' 'PDX' 'MCI' 'FLL'\n",
      " 'ORD' 'HNL' 'PHX' 'EWR' 'JFK' 'MCO' 'BOS' 'BDL' 'ITO' 'SFO' 'KOA' 'OGG'\n",
      " 'MYR' 'DTW' 'LIH' 'DEN' 'SJU' 'LAX' 'BWI' 'IAD' 'BQN' 'BUF' 'LGA' 'HOU'\n",
      " 'SLC' 'PHL' 'SJC' 'OAK' 'LGB' 'TPA' 'DCA' 'TTN' 'BTR' 'LAS' 'RSW' 'BRD'\n",
      " 'STL' 'RKS' 'MBS' 'SNA' 'MEI' 'MDW' 'SAN' 'RIC' 'AUS' 'OTZ' 'PIT' 'JAX'\n",
      " 'MSY' 'ONT' 'PSP' 'BUR' 'DAL' 'CVG' 'SMF' 'RDU' 'JMS' 'BNA' 'DSM' 'MAF'\n",
      " 'BOI' 'ELP' 'TUS' 'SCC' 'HPN' 'STT' 'MDT' 'RHI' 'SBP' 'MKE' 'JNU' 'CMH'\n",
      " 'CLD' 'KTN' 'CAK' 'CRP' 'CLE' 'GPT' 'SHV' 'TYS' 'IND' 'LIT' 'SAT' 'SRQ'\n",
      " 'TUL' 'GRK' 'PNS' 'BTV' 'CHS' 'DAY' 'OKC' 'SAV' 'XNA' 'COS' 'GJT' 'BZN'\n",
      " 'PUB' 'HRL' 'HDN' 'MEM' 'GEG' 'ORH' 'SYR' 'GSO' 'VPS' 'LAW' 'ACY' 'LBB'\n",
      " 'JAC' 'BIL' 'EUG' 'ASE' 'TVC' 'MTJ' 'CAE' 'PVD' 'HSV' 'CDC' 'YUM' 'ABQ'\n",
      " 'TLH' 'MLI' 'AMA' 'EGE' 'MOB' 'JAN' 'FWA' 'MSN' 'BIS' 'MFR' 'APN' 'BHM'\n",
      " 'OMA' 'LFT' 'GRR' 'MMH' 'CEC' 'SBA' 'RNO' 'CLL' 'LEX' 'LAN' 'DLH' 'SDF'\n",
      " 'FAT' 'SPS' 'SGF' 'CID' 'FSM' 'MGM' 'MFE' 'AVP' 'SJT' 'ROA' 'LRD' 'MRY'\n",
      " 'AGS' 'ROC' 'AEX' 'ISN' 'MLB' 'ORF' 'ICT' 'ECP' 'PIA' 'BPT' 'ACT' 'EYW'\n",
      " 'FSD' 'MLU' 'CHA' 'WRG' 'FNT' 'DIK' 'MHK' 'CNY' 'BRW' 'GRB' 'ATW' 'SAF'\n",
      " 'TYR' 'MKG' 'FLG' 'FCA' 'BTM' 'EVV' 'DRO' 'LNK' 'DBQ' 'FAR' 'OME' 'GSP'\n",
      " 'GUC' 'MSO' 'TXK' 'MOT' 'RAP' 'ISP' 'PWM' 'GGG' 'SBN' 'BFL' 'MHT' 'ROW'\n",
      " 'SIT' 'CMX' 'FAY' 'ILM' 'CMI' 'ALB' 'ABI' 'GTF' 'BMI' 'COU' 'HOB' 'GNV'\n",
      " 'SUN' 'SPI' 'PSG' 'BRO' 'AVL' 'TOL' 'SGU' 'GCC' 'HLN' 'CPR' 'PIH' 'BET'\n",
      " 'VEL' 'RDM' 'HYS' 'PSC' 'COD' 'INL' 'FAI' 'EKO' 'BJI' 'IDA' 'IMT' 'RST'\n",
      " 'HIB' 'ABR' 'STC' 'ACV' 'ESC' 'CIU' 'SWF' 'DAB' 'TRI' 'AZO' 'CRW' 'STX'\n",
      " 'GRI' 'CHO' 'GCK' 'PLN' 'LSE' 'SMX' 'RDD' 'PHF' 'LCH' 'GTR' 'LAR' 'ERI'\n",
      " 'PAH' 'EAU' 'LBE' 'BLI' 'DVL' 'CWA' 'ILG' 'OAJ' 'ABE' 'ALO' 'ABY' 'DHN'\n",
      " 'TWF' 'ADK' 'ELM' 'VLD' 'PIB' 'SUX' 'GUM' 'SCE' 'UST' 'BQK' 'JLN' 'LWS'\n",
      " 'MQT' 'EWN' 'CSG' 'PBG' 'PSE' 'IAG' 'YAK' 'CDV' 'OTH' 'ADQ' 'PPG' 'GFK'\n",
      " 'BGM' 'BGR' 'ITH' 'ACK' 'MVY' 'WYS' 'DLG' 'AKN' 'GST' 'HYA' '11298'\n",
      " '13487' '13303' '11057' '13930' '10693' '14747' '12266' '12478' '14057'\n",
      " '10397' '13198' '12173' '11618' '13204' '12402' '12758' '14771' '11292'\n",
      " '13830' '14107' '12982' '11697' '12519' '13577' '14869' '12339' '13232'\n",
      " '11259' '15016' '12892' '12889' '10140' '10721' '15304' '14679' '14100'\n",
      " '10732' '10821' '14831' '14843' '14570' '12191' '11433' '12264' '14893'\n",
      " '13796' '12953' '14122' '13495' '12451' '11042' '11278' '14908' '13342'\n",
      " '13891' '10299' '12523' '12954' '14520' '12129' '10713' '10431' '11066'\n",
      " '10994' '10423' '10792' '14683' '10800' '10551' '11193' '14307' '11540'\n",
      " '14635' '13851' '15376' '11884' '14492' '14027' '13970' '13184' '13296'\n",
      " '10599' '11986' '14698' '11423' '13244' '14574' '12992' '13241' '12217'\n",
      " '13871' '12197' '11003' '15919' '14524' '14689' '10529' '14576' '11995'\n",
      " '11267' '12819' '14633' '11996' '13256' '13158' '12448' '10781' '13422'\n",
      " '16218' '15370' '10868' '14730' '13931' '13485' '14986' '15024' '11823'\n",
      " '11721' '14685' '10257' '12206' '12255' '12951' '14709' '14321' '12391'\n",
      " '14794' '10874' '12278' '11638' '10372' '11122' '14457' '15096' '12896'\n",
      " '11109' '10279' '11481' '15412' '14814' '11641' '10980' '12945' '10990'\n",
      " '10157' '13076' '13230' '15295' '10918' '13933' '11953' '10135' '14262'\n",
      " '11067' '13277' '11603' '10561' '11612' '15624' '11977' '15380' '13367'\n",
      " '14193' '10333' '11778' '11140' '14783' '10136' '14842' '11049' '14696'\n",
      " '11695' '11637' '15401' '14674' '13061' '10685' '11982' '10469' '11921'\n",
      " '14108' '11413' '12891' '11905' '14960' '15411' '10155' '10747' '10728'\n",
      " '13290' '13433' '10208' '11973' '15323' '10849' '13360' '13795' '14952'\n",
      " '13377' '10408' '10627' '13344' '13476' '11775' '10158' '11898' '13029'\n",
      " '15249' '11337' '12915' '15356' '13264' '11252' '10185' '11624' '12323'\n",
      " '15841' '10785' '11146' '14098' '10434' '12389' '15991' '11315' '11150'\n",
      " '12884' '11537' '11274' '11076' '10754' '13873' '14828' '11308' '12007'\n",
      " '10731' '14588' '15607' '10146' '15070' '13486' '12003' '13127' '12177'\n",
      " '12441' '12094' '12156' '14113' '12280' '14489' '14256' '10620' '11097'\n",
      " '10779' '10631' '12888' '15389' '15041' '14252' '12343' '11648' '10154'\n",
      " '12898' '12335' '11865' '10926' '11980' '13964' '11630' '11013' '11587'\n",
      " '11111' '15027' '11203' '14905' '11471' '12511' '10268' '11447' '15048'\n",
      " '13541' '10141' '14150' '14006' '11617' '11525' '11867' '14711' '11577'\n",
      " '12016' '14487' '10739' '14109' '10165' '14543' '10577' '10170' '15497'\n",
      " '11503' '13459' '10581' '12265' '14254' '14222' '14025' '13502' '10666']\n"
     ]
    }
   ],
   "source": [
    " print(flights.DESTINATION_AIRPORT.unique())"
   ]
  },
  {
   "cell_type": "code",
   "execution_count": 143,
   "metadata": {
    "collapsed": false
   },
   "outputs": [
    {
     "name": "stdout",
     "output_type": "stream",
     "text": [
      "(14, 2)\n",
      "(322, 7)\n",
      "(5819079, 31)\n"
     ]
    }
   ],
   "source": [
    "print (airlines.shape)\n",
    "print (airports.shape)\n",
    "print (flights.shape)"
   ]
  },
  {
   "cell_type": "code",
   "execution_count": 144,
   "metadata": {
    "collapsed": false
   },
   "outputs": [
    {
     "name": "stdout",
     "output_type": "stream",
     "text": [
      "0 NULL values are found in column IATA_CODE\n",
      "0 NULL values are found in column AIRLINE\n"
     ]
    }
   ],
   "source": [
    "#Looking for null values in airlines data\n",
    "for col in airlines:\n",
    "    print (\"%d NULL values are found in column %s\" % (airlines[col].isnull().sum().sum(), col))"
   ]
  },
  {
   "cell_type": "code",
   "execution_count": 145,
   "metadata": {
    "collapsed": false
   },
   "outputs": [
    {
     "name": "stdout",
     "output_type": "stream",
     "text": [
      "0 NULL values are found in column IATA_CODE\n",
      "0 NULL values are found in column AIRPORT\n",
      "0 NULL values are found in column CITY\n",
      "0 NULL values are found in column STATE\n",
      "0 NULL values are found in column COUNTRY\n",
      "3 NULL values are found in column LATITUDE\n",
      "3 NULL values are found in column LONGITUDE\n"
     ]
    }
   ],
   "source": [
    "#Looking for null values in airport data\n",
    "for col in airports:\n",
    "    print (\"%d NULL values are found in column %s\" % (airports[col].isnull().sum().sum(), col))"
   ]
  },
  {
   "cell_type": "code",
   "execution_count": 146,
   "metadata": {
    "collapsed": false
   },
   "outputs": [
    {
     "name": "stdout",
     "output_type": "stream",
     "text": [
      "0 NULL values are found in column YEAR\n",
      "0 NULL values are found in column MONTH\n",
      "0 NULL values are found in column DAY\n",
      "0 NULL values are found in column DAY_OF_WEEK\n",
      "0 NULL values are found in column AIRLINE\n",
      "0 NULL values are found in column FLIGHT_NUMBER\n",
      "14721 NULL values are found in column TAIL_NUMBER\n",
      "0 NULL values are found in column ORIGIN_AIRPORT\n",
      "0 NULL values are found in column DESTINATION_AIRPORT\n",
      "0 NULL values are found in column SCHEDULED_DEPARTURE\n",
      "86153 NULL values are found in column DEPARTURE_TIME\n",
      "86153 NULL values are found in column DEPARTURE_DELAY\n",
      "89047 NULL values are found in column TAXI_OUT\n",
      "89047 NULL values are found in column WHEELS_OFF\n",
      "6 NULL values are found in column SCHEDULED_TIME\n",
      "105071 NULL values are found in column ELAPSED_TIME\n",
      "105071 NULL values are found in column AIR_TIME\n",
      "0 NULL values are found in column DISTANCE\n",
      "92513 NULL values are found in column WHEELS_ON\n",
      "92513 NULL values are found in column TAXI_IN\n",
      "0 NULL values are found in column SCHEDULED_ARRIVAL\n",
      "92513 NULL values are found in column ARRIVAL_TIME\n",
      "105071 NULL values are found in column ARRIVAL_DELAY\n",
      "0 NULL values are found in column DIVERTED\n",
      "0 NULL values are found in column CANCELLED\n",
      "5729195 NULL values are found in column CANCELLATION_REASON\n",
      "4755640 NULL values are found in column AIR_SYSTEM_DELAY\n",
      "4755640 NULL values are found in column SECURITY_DELAY\n",
      "4755640 NULL values are found in column AIRLINE_DELAY\n",
      "4755640 NULL values are found in column LATE_AIRCRAFT_DELAY\n",
      "4755640 NULL values are found in column WEATHER_DELAY\n"
     ]
    }
   ],
   "source": [
    "#Looking for null values in flights data\n",
    "for col in flights:\n",
    "    print (\"%d NULL values are found in column %s\" % (flights[col].isnull().sum().sum(), col))"
   ]
  },
  {
   "cell_type": "code",
   "execution_count": 147,
   "metadata": {
    "collapsed": false
   },
   "outputs": [
    {
     "name": "stdout",
     "output_type": "stream",
     "text": [
      "89884.0\n",
      "89884\n"
     ]
    }
   ],
   "source": [
    "#Checking if numbers match between flights cancelled and reasons cancelled\n",
    "print (flights.shape[0]*flights.CANCELLED.mean())\n",
    "print (flights.shape[0] - flights.CANCELLATION_REASON.isnull().sum().sum())"
   ]
  },
  {
   "cell_type": "code",
   "execution_count": 148,
   "metadata": {
    "collapsed": true
   },
   "outputs": [],
   "source": [
    "#Want to join airports and airlines lookup data to flight data"
   ]
  },
  {
   "cell_type": "code",
   "execution_count": 149,
   "metadata": {
    "collapsed": false
   },
   "outputs": [
    {
     "data": {
      "text/plain": [
       "{'AA': 'American Airlines Inc.',\n",
       " 'AS': 'Alaska Airlines Inc.',\n",
       " 'B6': 'JetBlue Airways',\n",
       " 'DL': 'Delta Air Lines Inc.',\n",
       " 'EV': 'Atlantic Southeast Airlines',\n",
       " 'F9': 'Frontier Airlines Inc.',\n",
       " 'HA': 'Hawaiian Airlines Inc.',\n",
       " 'MQ': 'American Eagle Airlines Inc.',\n",
       " 'NK': 'Spirit Air Lines',\n",
       " 'OO': 'Skywest Airlines Inc.',\n",
       " 'UA': 'United Air Lines Inc.',\n",
       " 'US': 'US Airways Inc.',\n",
       " 'VX': 'Virgin America',\n",
       " 'WN': 'Southwest Airlines Co.'}"
      ]
     },
     "execution_count": 149,
     "metadata": {},
     "output_type": "execute_result"
    }
   ],
   "source": [
    "airlines_dict = dict(zip(airlines['IATA_CODE'],airlines['AIRLINE']))\n",
    "airlines_dict"
   ]
  },
  {
   "cell_type": "code",
   "execution_count": 150,
   "metadata": {
    "collapsed": false
   },
   "outputs": [
    {
     "data": {
      "text/plain": [
       "{'ABE': 'Lehigh Valley International Airport',\n",
       " 'ABI': 'Abilene Regional Airport',\n",
       " 'ABQ': 'Albuquerque International Sunport',\n",
       " 'ABR': 'Aberdeen Regional Airport',\n",
       " 'ABY': 'Southwest Georgia Regional Airport',\n",
       " 'ACK': 'Nantucket Memorial Airport',\n",
       " 'ACT': 'Waco Regional Airport',\n",
       " 'ACV': 'Arcata Airport',\n",
       " 'ACY': 'Atlantic City International Airport',\n",
       " 'ADK': 'Adak Airport',\n",
       " 'ADQ': 'Kodiak Airport',\n",
       " 'AEX': 'Alexandria International Airport',\n",
       " 'AGS': 'Augusta Regional Airport\\xc2\\xa0(Bush Field)',\n",
       " 'AKN': 'King Salmon Airport',\n",
       " 'ALB': 'Albany International Airport',\n",
       " 'ALO': 'Waterloo Regional Airport',\n",
       " 'AMA': 'Rick Husband Amarillo International Airport',\n",
       " 'ANC': 'Ted Stevens Anchorage International Airport',\n",
       " 'APN': 'Alpena County Regional Airport',\n",
       " 'ASE': 'Aspen-Pitkin County Airport',\n",
       " 'ATL': 'Hartsfield-Jackson Atlanta International Airport',\n",
       " 'ATW': 'Appleton International Airport',\n",
       " 'AUS': 'Austin-Bergstrom International Airport',\n",
       " 'AVL': 'Asheville Regional Airport',\n",
       " 'AVP': 'Wilkes-Barre/Scranton International Airport',\n",
       " 'AZO': 'Kalamazoo/Battle Creek International Airport',\n",
       " 'BDL': 'Bradley International Airport',\n",
       " 'BET': 'Bethel Airport',\n",
       " 'BFL': 'Meadows Field',\n",
       " 'BGM': 'Greater Binghamton Airport',\n",
       " 'BGR': 'Bangor International Airport',\n",
       " 'BHM': 'Birmingham-Shuttlesworth International Airport',\n",
       " 'BIL': 'Billings Logan International Airport',\n",
       " 'BIS': 'Bismarck Municipal Airport',\n",
       " 'BJI': 'Bemidji Regional Airport',\n",
       " 'BLI': 'Bellingham International Airport',\n",
       " 'BMI': 'Central Illinois Regional Airport at Bloomington-Normal',\n",
       " 'BNA': 'Nashville International Airport',\n",
       " 'BOI': 'Boise Airport\\xc2\\xa0(Boise Air Terminal)',\n",
       " 'BOS': 'Gen. Edward Lawrence Logan International Airport',\n",
       " 'BPT': 'Jack Brooks Regional Airport\\xc2\\xa0(Southeast Texas Regional)',\n",
       " 'BQK': 'Brunswick Golden Isles Airport',\n",
       " 'BQN': 'Rafael Hern\\xc3\\xa1ndez Airport',\n",
       " 'BRD': 'Brainerd Lakes Regional Airport',\n",
       " 'BRO': 'Brownsville/South Padre Island International Airport',\n",
       " 'BRW': 'Wiley Post-Will Rogers Memorial Airport',\n",
       " 'BTM': 'Bert Mooney Airport',\n",
       " 'BTR': 'Baton Rouge Metropolitan Airport',\n",
       " 'BTV': 'Burlington International Airport',\n",
       " 'BUF': 'Buffalo Niagara International Airport',\n",
       " 'BUR': 'Bob Hope Airport\\xc2\\xa0(Hollywood Burbank Airport)',\n",
       " 'BWI': 'Baltimore-Washington International Airport',\n",
       " 'BZN': 'Bozeman Yellowstone International Airport\\xc2\\xa0(Gallatin Field Airport)',\n",
       " 'CAE': 'Columbia Metropolitan Airport',\n",
       " 'CAK': 'Akron-Canton Regional Airport',\n",
       " 'CDC': 'Cedar City Regional Airport',\n",
       " 'CDV': 'Merle K. (Mudhole) Smith Airport',\n",
       " 'CEC': 'Del Norte County Airport\\xc2\\xa0(Jack McNamara Field)',\n",
       " 'CHA': 'Chattanooga Metropolitan Airport\\xc2\\xa0(Lovell Field)',\n",
       " 'CHO': 'Charlottesville-Albemarle Airport',\n",
       " 'CHS': 'Charleston International Airport/Charleston AFB',\n",
       " 'CID': 'The Eastern Iowa Airport',\n",
       " 'CIU': 'Chippewa County International Airport',\n",
       " 'CLD': 'McClellan-Palomar Airport',\n",
       " 'CLE': 'Cleveland Hopkins International Airport',\n",
       " 'CLL': 'Easterwood Airport',\n",
       " 'CLT': 'Charlotte Douglas International Airport',\n",
       " 'CMH': 'Port Columbus International Airport',\n",
       " 'CMI': 'University of Illinois - Willard Airport',\n",
       " 'CMX': 'Houghton County Memorial Airport',\n",
       " 'CNY': 'Canyonlands Field',\n",
       " 'COD': 'Yellowstone Regional Airport',\n",
       " 'COS': 'City of Colorado Springs Municipal Airport',\n",
       " 'COU': 'Columbia Regional Airport',\n",
       " 'CPR': 'Natrona County International Airport',\n",
       " 'CRP': 'Corpus Christi International Airport',\n",
       " 'CRW': 'Yeager Airport',\n",
       " 'CSG': 'Columbus Metropolitan Airport',\n",
       " 'CVG': 'Cincinnati/Northern Kentucky International Airport',\n",
       " 'CWA': 'Central Wisconsin Airport',\n",
       " 'DAB': 'Daytona Beach International Airport',\n",
       " 'DAL': 'Dallas Love Field',\n",
       " 'DAY': 'James M. Cox Dayton International Airport',\n",
       " 'DBQ': 'Dubuque Regional Airport',\n",
       " 'DCA': 'Ronald Reagan Washington National Airport',\n",
       " 'DEN': 'Denver International Airport',\n",
       " 'DFW': 'Dallas/Fort Worth International Airport',\n",
       " 'DHN': 'Dothan Regional Airport',\n",
       " 'DIK': 'Dickinson Theodore Roosevelt Regional Airport',\n",
       " 'DLG': 'Dillingham Airport',\n",
       " 'DLH': 'Duluth International Airport',\n",
       " 'DRO': 'Durango-La Plata County Airport',\n",
       " 'DSM': 'Des Moines International Airport',\n",
       " 'DTW': 'Detroit Metropolitan Airport',\n",
       " 'DVL': 'Devils Lake Regional Airport',\n",
       " 'EAU': 'Chippewa Valley Regional Airport',\n",
       " 'ECP': 'Northwest Florida Beaches International Airport',\n",
       " 'EGE': 'Eagle County Regional Airport',\n",
       " 'EKO': 'Elko Regional Airport',\n",
       " 'ELM': 'Elmira/Corning Regional Airport',\n",
       " 'ELP': 'El Paso International Airport',\n",
       " 'ERI': 'Erie International Airport',\n",
       " 'ESC': 'Delta County Airport',\n",
       " 'EUG': 'Eugene Airport\\xc2\\xa0(Mahlon Sweet Field)',\n",
       " 'EVV': 'Evansville Regional Airport',\n",
       " 'EWN': 'Coastal Carolina Regional Airport\\xc2\\xa0(Craven County Regional)',\n",
       " 'EWR': 'Newark Liberty International Airport',\n",
       " 'EYW': 'Key West International Airport',\n",
       " 'FAI': 'Fairbanks International Airport',\n",
       " 'FAR': 'Hector International Airport',\n",
       " 'FAT': 'Fresno Yosemite International Airport',\n",
       " 'FAY': 'Fayetteville Regional Airport',\n",
       " 'FCA': 'Glacier Park International Airport',\n",
       " 'FLG': 'Flagstaff Pulliam Airport',\n",
       " 'FLL': 'Fort Lauderdale-Hollywood International Airport',\n",
       " 'FNT': 'Bishop International Airport',\n",
       " 'FSD': 'Sioux Falls Regional Airport',\n",
       " 'FSM': 'Fort Smith Regional Airport',\n",
       " 'FWA': 'Fort Wayne International Airport',\n",
       " 'GCC': 'Gillette-Campbell County Airport',\n",
       " 'GCK': 'Garden City Regional Airport',\n",
       " 'GEG': 'Spokane International Airport',\n",
       " 'GFK': 'Grand Forks International Airport',\n",
       " 'GGG': 'East Texas Regional Airport',\n",
       " 'GJT': 'Grand Junction Regional Airport\\xc2\\xa0(Walker Field)',\n",
       " 'GNV': 'Gainesville Regional Airport',\n",
       " 'GPT': 'Gulfport-Biloxi International Airport',\n",
       " 'GRB': 'Green Bay-Austin Straubel International Airport',\n",
       " 'GRI': 'Central Nebraska Regional Airport',\n",
       " 'GRK': 'Killeen-Fort Hood Regional Airport',\n",
       " 'GRR': 'Gerald R. Ford International Airport',\n",
       " 'GSO': 'Piedmont Triad International Airport',\n",
       " 'GSP': 'Greenville-Spartanburg International Airport',\n",
       " 'GST': 'Gustavus Airport',\n",
       " 'GTF': 'Great Falls International Airport',\n",
       " 'GTR': 'Golden Triangle Regional Airport',\n",
       " 'GUC': 'Gunnison-Crested Butte Regional Airport',\n",
       " 'GUM': 'Guam International Airport',\n",
       " 'HDN': 'Yampa Valley Airport\\xc2\\xa0(Yampa Valley Regional)',\n",
       " 'HIB': 'Range Regional Airport\\xc2\\xa0(Chisholm-Hibbing Airport)',\n",
       " 'HLN': 'Helena Regional Airport',\n",
       " 'HNL': 'Honolulu International Airport',\n",
       " 'HOB': 'Lea County Regional Airport',\n",
       " 'HOU': 'William P. Hobby Airport',\n",
       " 'HPN': 'Westchester County Airport',\n",
       " 'HRL': 'Valley International Airport',\n",
       " 'HSV': 'Huntsville International Airport',\n",
       " 'HYA': 'Barnstable Municipal Airport',\n",
       " 'HYS': 'Hays Regional Airport',\n",
       " 'IAD': 'Washington Dulles International Airport',\n",
       " 'IAG': 'Niagara Falls International Airport',\n",
       " 'IAH': 'George Bush Intercontinental Airport',\n",
       " 'ICT': 'Wichita Dwight D. Eisenhower National Airport\\xc2\\xa0(Wichita Mid-Continent Airport)',\n",
       " 'IDA': 'Idaho Falls Regional Airport',\n",
       " 'ILG': 'Wilmington Airport',\n",
       " 'ILM': 'Wilmington International Airport',\n",
       " 'IMT': 'Ford Airport',\n",
       " 'IND': 'Indianapolis International Airport',\n",
       " 'INL': 'Falls International Airport',\n",
       " 'ISN': 'Sloulin Field International Airport',\n",
       " 'ISP': 'Long Island MacArthur Airport',\n",
       " 'ITH': 'Ithaca Tompkins Regional Airport',\n",
       " 'ITO': 'Hilo International Airport',\n",
       " 'JAC': 'Jackson Hole Airport',\n",
       " 'JAN': 'Jackson-Evers International Airport',\n",
       " 'JAX': 'Jacksonville International Airport',\n",
       " 'JFK': 'John F. Kennedy International Airport\\xc2\\xa0(New York International Airport)',\n",
       " 'JLN': 'Joplin Regional Airport',\n",
       " 'JMS': 'Jamestown Regional Airport',\n",
       " 'JNU': 'Juneau International Airport',\n",
       " 'KOA': 'Kona International Airport at Keahole',\n",
       " 'KTN': 'Ketchikan International Airport',\n",
       " 'LAN': 'Capital Region International Airport\\xc2\\xa0( Lansing Capital City)',\n",
       " 'LAR': 'Laramie Regional Airport',\n",
       " 'LAS': 'McCarran International Airport',\n",
       " 'LAW': 'Lawton-Fort Sill Regional Airport',\n",
       " 'LAX': 'Los Angeles International Airport',\n",
       " 'LBB': 'Lubbock Preston Smith International Airport',\n",
       " 'LBE': 'Arnold Palmer Regional Airport',\n",
       " 'LCH': 'Lake Charles Regional Airport',\n",
       " 'LEX': 'Blue Grass Airport',\n",
       " 'LFT': 'Lafayette Regional Airport',\n",
       " 'LGA': 'LaGuardia Airport (Marine Air Terminal)',\n",
       " 'LGB': 'Long Beach Airport\\xc2\\xa0(Daugherty Field)',\n",
       " 'LIH': 'Lihue Airport',\n",
       " 'LIT': 'Bill and Hillary Clinton National Airport\\xc2\\xa0(Adams Field)',\n",
       " 'LNK': 'Lincoln Airport\\xc2\\xa0(Lincoln Municipal)',\n",
       " 'LRD': 'Laredo International Airport',\n",
       " 'LSE': 'La Crosse Regional Airport',\n",
       " 'LWS': 'Lewiston-Nez Perce County Airport',\n",
       " 'MAF': 'Midland International Airport',\n",
       " 'MBS': 'MBS International Airport',\n",
       " 'MCI': 'Kansas City International Airport',\n",
       " 'MCO': 'Orlando International Airport',\n",
       " 'MDT': 'Harrisburg International Airport',\n",
       " 'MDW': 'Chicago Midway International Airport',\n",
       " 'MEI': 'Meridian Regional Airport',\n",
       " 'MEM': 'Memphis International Airport',\n",
       " 'MFE': 'McAllen-Miller International Airport\\xc2\\xa0(McAllen Miller International)',\n",
       " 'MFR': 'Rogue Valley International Airport',\n",
       " 'MGM': 'Montgomery Regional Airport',\n",
       " 'MHK': 'Manhattan Regional Airport',\n",
       " 'MHT': 'Manchester-Boston Regional Airport',\n",
       " 'MIA': 'Miami International Airport',\n",
       " 'MKE': 'General Mitchell International Airport',\n",
       " 'MKG': 'Muskegon County Airport',\n",
       " 'MLB': 'Melbourne International Airport',\n",
       " 'MLI': 'Quad City International Airport',\n",
       " 'MLU': 'Monroe Regional Airport',\n",
       " 'MMH': 'Mammoth Yosemite Airport',\n",
       " 'MOB': 'Mobile Regional Airport',\n",
       " 'MOT': 'Minot International Airport',\n",
       " 'MQT': 'Sawyer International Airport',\n",
       " 'MRY': 'Monterey Regional Airport\\xc2\\xa0(Monterey Peninsula Airport)',\n",
       " 'MSN': 'Dane County Regional Airport',\n",
       " 'MSO': 'Missoula International Airport',\n",
       " 'MSP': 'Minneapolis-Saint Paul International Airport',\n",
       " 'MSY': 'Louis Armstrong New Orleans International Airport',\n",
       " 'MTJ': 'Montrose Regional Airport',\n",
       " 'MVY': \"Martha's Vineyard Airport\",\n",
       " 'MYR': 'Myrtle Beach International Airport',\n",
       " 'OAJ': 'Albert J. Ellis Airport',\n",
       " 'OAK': 'Oakland International Airport',\n",
       " 'OGG': 'Kahului Airport',\n",
       " 'OKC': 'Will Rogers World Airport',\n",
       " 'OMA': 'Eppley Airfield',\n",
       " 'OME': 'Nome Airport',\n",
       " 'ONT': 'Ontario International Airport',\n",
       " 'ORD': \"Chicago O'Hare International Airport\",\n",
       " 'ORF': 'Norfolk International Airport',\n",
       " 'ORH': 'Worcester Regional Airport',\n",
       " 'OTH': 'Southwest Oregon Regional Airport\\xc2\\xa0(North Bend Municipal)',\n",
       " 'OTZ': 'Ralph Wien Memorial Airport',\n",
       " 'PAH': 'Barkley Regional Airport',\n",
       " 'PBG': 'Plattsburgh International Airport',\n",
       " 'PBI': 'Palm Beach International Airport',\n",
       " 'PDX': 'Portland International Airport',\n",
       " 'PHF': 'Newport News/Williamsburg International Airport',\n",
       " 'PHL': 'Philadelphia International Airport',\n",
       " 'PHX': 'Phoenix Sky Harbor International Airport',\n",
       " 'PIA': 'General Wayne A. Downing Peoria International Airport',\n",
       " 'PIB': 'Hattiesburg-Laurel Regional Airport',\n",
       " 'PIH': 'Pocatello Regional Airport',\n",
       " 'PIT': 'Pittsburgh International Airport',\n",
       " 'PLN': 'Pellston Regional Airport of Emmet County',\n",
       " 'PNS': 'Pensacola International Airport\\xc2\\xa0(Pensacola Gulf Coast Regional Airport)',\n",
       " 'PPG': 'Pago Pago International Airport (Tafuna Airport)',\n",
       " 'PSC': 'Tri-Cities Airport',\n",
       " 'PSE': 'Mercedita Airport',\n",
       " 'PSG': 'Petersburg James A. Johnson Airport',\n",
       " 'PSP': 'Palm Springs International Airport',\n",
       " 'PUB': 'Pueblo Memorial Airport',\n",
       " 'PVD': 'Theodore Francis Green State Airport',\n",
       " 'PWM': 'Portland International Jetport',\n",
       " 'RAP': 'Rapid City Regional Airport',\n",
       " 'RDD': 'Redding Municipal Airport',\n",
       " 'RDM': 'Redmond Municipal Airport\\xc2\\xa0(Roberts Field)',\n",
       " 'RDU': 'Raleigh-Durham International Airport',\n",
       " 'RHI': 'Rhinelander-Oneida County Airport',\n",
       " 'RIC': 'Richmond International Airport',\n",
       " 'RKS': 'Rock Springs-Sweetwater County Airport',\n",
       " 'RNO': 'Reno/Tahoe International Airport',\n",
       " 'ROA': 'Roanoke Regional Airport\\xc2\\xa0(Woodrum Field)',\n",
       " 'ROC': 'Greater Rochester International Airport',\n",
       " 'ROW': 'Roswell International Air Center',\n",
       " 'RST': 'Rochester International Airport',\n",
       " 'RSW': 'Southwest Florida International Airport',\n",
       " 'SAF': 'Santa Fe Municipal Airport',\n",
       " 'SAN': 'San Diego International Airport\\xc2\\xa0(Lindbergh Field)',\n",
       " 'SAT': 'San Antonio International Airport',\n",
       " 'SAV': 'Savannah/Hilton Head International Airport',\n",
       " 'SBA': 'Santa Barbara Municipal Airport\\xc2\\xa0(Santa Barbara Airport)',\n",
       " 'SBN': 'South Bend International Airport\\xc2\\xa0(South Bend Regional)',\n",
       " 'SBP': 'San Luis Obispo County Regional Airport\\xc2\\xa0(McChesney Field)',\n",
       " 'SCC': 'Deadhorse Airport\\xc2\\xa0(Prudhoe Bay Airport)',\n",
       " 'SCE': 'University Park Airport',\n",
       " 'SDF': 'Louisville International Airport\\xc2\\xa0(Standiford Field)',\n",
       " 'SEA': 'Seattle-Tacoma International Airport',\n",
       " 'SFO': 'San Francisco International Airport',\n",
       " 'SGF': 'Springfield-Branson National Airport',\n",
       " 'SGU': 'St. George Regional Airport',\n",
       " 'SHV': 'Shreveport Regional Airport',\n",
       " 'SIT': 'Sitka Rocky Gutierrez Airport',\n",
       " 'SJC': 'Norman Y. Mineta San Jos\\xc3\\xa9 International Airport',\n",
       " 'SJT': 'San Angelo Regional Airport\\xc2\\xa0(Mathis Field)',\n",
       " 'SJU': 'Luis Mu\\xc3\\xb1oz Mar\\xc3\\xadn International Airport',\n",
       " 'SLC': 'Salt Lake City International Airport',\n",
       " 'SMF': 'Sacramento International Airport',\n",
       " 'SMX': 'Santa Maria Public Airport\\xc2\\xa0(Capt G. Allan Hancock Field)',\n",
       " 'SNA': 'John Wayne Airport\\xc2\\xa0(Orange County Airport)',\n",
       " 'SPI': 'Abraham Lincoln Capital Airport',\n",
       " 'SPS': 'Wichita Falls Municipal Airport/Sheppard AFB',\n",
       " 'SRQ': 'Sarasota-Bradenton International Airport',\n",
       " 'STC': 'St. Cloud Regional Airport',\n",
       " 'STL': 'St. Louis International Airport at Lambert Field',\n",
       " 'STT': 'Cyril E. King Airport',\n",
       " 'STX': 'Henry E. Rohlsen Airport',\n",
       " 'SUN': 'Friedman Memorial Airport',\n",
       " 'SUX': 'Sioux Gateway Airport',\n",
       " 'SWF': 'Stewart International Airport',\n",
       " 'SYR': 'Syracuse Hancock International Airport',\n",
       " 'TLH': 'Tallahassee International Airport',\n",
       " 'TOL': 'Toledo Express Airport',\n",
       " 'TPA': 'Tampa International Airport',\n",
       " 'TRI': 'Tri-Cities Regional Airport',\n",
       " 'TTN': 'Trenton Mercer Airport',\n",
       " 'TUL': 'Tulsa International Airport',\n",
       " 'TUS': 'Tucson International Airport',\n",
       " 'TVC': 'Cherry Capital Airport',\n",
       " 'TWF': 'Magic Valley Regional Airport\\xc2\\xa0(Joslin Field)',\n",
       " 'TXK': 'Texarkana Regional Airport\\xc2\\xa0(Webb Field)',\n",
       " 'TYR': 'Tyler Pounds Regional Airport',\n",
       " 'TYS': 'McGhee Tyson Airport',\n",
       " 'UST': 'Northeast Florida Regional Airport\\xc2\\xa0(St. Augustine Airport)',\n",
       " 'VEL': 'Valdez Airport',\n",
       " 'VLD': 'Valdosta Regional Airport',\n",
       " 'VPS': 'Destin-Fort Walton Beach Airport/Eglin AFB',\n",
       " 'WRG': 'Wrangell Airport',\n",
       " 'WYS': 'Westerly State Airport',\n",
       " 'XNA': 'Northwest Arkansas Regional Airport',\n",
       " 'YAK': 'Yakutat Airport',\n",
       " 'YUM': 'Yuma International Airport'}"
      ]
     },
     "execution_count": 150,
     "metadata": {},
     "output_type": "execute_result"
    }
   ],
   "source": [
    "airports_dict = dict(zip(airports['IATA_CODE'],airports['AIRPORT']))\n",
    "airports_dict"
   ]
  },
  {
   "cell_type": "code",
   "execution_count": 151,
   "metadata": {
    "collapsed": false,
    "scrolled": true
   },
   "outputs": [],
   "source": [
    "\n",
    "#flights['AIRLINE_NAME'] = flights['AIRLINE'].apply(lambda a: airlines_dict[a])\n",
    "#flights['AIRPORT_NAME_ORIGIN'] = flights['ORIGIN_AIRPORT'].apply(lambda a: airports_dict[a])\n",
    "#flights['AIRPORT_NAME_DEST'] = flights['DESTINATION_AIRPORT'].apply(lambda a: airports_dict[a])\n",
    "#flights.head()"
   ]
  },
  {
   "cell_type": "code",
   "execution_count": null,
   "metadata": {
    "collapsed": true
   },
   "outputs": [],
   "source": []
  },
  {
   "cell_type": "code",
   "execution_count": 152,
   "metadata": {
    "collapsed": false
   },
   "outputs": [
    {
     "data": {
      "image/png": "[encoded data removed]",
      "text/plain": [
       "<matplotlib.figure.Figure at 0x1108fdd10>"
      ]
     },
     "metadata": {},
     "output_type": "display_data"
    }
   ],
   "source": [
    "ArrivalDelayBox= sns.boxplot(x=flights[\"ARRIVAL_DELAY\"])"
   ]
  },
  {
   "cell_type": "code",
   "execution_count": null,
   "metadata": {
    "collapsed": false
   },
   "outputs": [
    {
     "data": {
      "text/plain": [
       "4.407057357987598"
      ]
     },
     "execution_count": 153,
     "metadata": {},
     "output_type": "execute_result"
    }
   ],
   "source": [
    "#Want to show average arrival delay by month\n",
    "flights.ARRIVAL_DELAY.mean()\n"
   ]
  },
  {
   "cell_type": "code",
   "execution_count": null,
   "metadata": {
    "collapsed": false
   },
   "outputs": [],
   "source": [
    "flights.plot(kind='line', x='MONTH', y='ARRIVAL_DELAY')"
   ]
  },
  {
   "cell_type": "code",
   "execution_count": null,
   "metadata": {
    "collapsed": false
   },
   "outputs": [],
   "source": [
    "g = sns.lmplot('DAY', 'ARRIVAL_DELAY', flights)\n",
    "g.set_axis_labels( \"DAY\", \"ARRIVAL_DELAY\")"
   ]
  },
  {
   "cell_type": "code",
   "execution_count": null,
   "metadata": {
    "collapsed": false
   },
   "outputs": [],
   "source": [
    "lm = smf.ols(formula='ARRIVAL_DELAY ~ DAY_OF_WEEK', data=flights).fit()\n",
    "lm.summary()"
   ]
  },
  {
   "cell_type": "code",
   "execution_count": null,
   "metadata": {
    "collapsed": true
   },
   "outputs": [],
   "source": []
  },
  {
   "cell_type": "code",
   "execution_count": null,
   "metadata": {
    "collapsed": true
   },
   "outputs": [],
   "source": []
  }
 ],
 "metadata": {
  "kernelspec": {
   "display_name": "Python 2",
   "language": "python",
   "name": "python2"
  },
  "language_info": {
   "codemirror_mode": {
    "name": "ipython",
    "version": 2
   },
   "file_extension": ".py",
   "mimetype": "text/x-python",
   "name": "python",
   "nbconvert_exporter": "python",
   "pygments_lexer": "ipython2",
   "version": "2.7.13"
  }
 },
 "nbformat": 4,
 "nbformat_minor": 2
}
